# 📓 Jupyter Notebook: LLM Homework 1/l2_Groq.ipynb

**Notebook Overview:**
- Total Cells: 32
- Code Cells: 16
- Markdown Cells: 16

**Kernel:** Python 3 (ipykernel)

**Language:** python 3.9.19

## 📋 Notebook Content:

### 📝 Markdown Cell 1

# Guidelines for Prompting
In this lesson, you'll practice two prompting principles and their related tactics in order to write effective prompts for large language models.

## Setup
#### Load the API key and relevant Python libaries.

---

### 📝 Markdown Cell 2

In this course, we've provided some code that loads the OpenAI API key for you.

---

### 🔹 Code Cell 3 [Execution: 1]

```python
!pip install -q groq
```

**Output:**
```
[2K     [90m━━━━━━━━━━━━━━━━━━━━━━━━━━━━━━━━━━━━━━━━[0m [32m103.5/103.5 kB[0m [31m2.4 MB/s[0m eta [36m0:00:00[0m
[2K     [90m━━━━━━━━━━━━━━━━━━━━━━━━━━━━━━━━━━━━━━━━[0m [32m75.6/75.6 kB[0m [31m4.3 MB/s[0m eta [36m0:00:00[0m
[2K     [90m━━━━━━━━━━━━━━━━━━━━━━━━━━━━━━━━━━━━━━━━[0m [32m77.9/77.9 kB[0m [31m3.4 MB/s[0m eta [36m0:00:00[0m
[2K     [90m━━━━━━━━━━━━━━━━━━━━━━━━━━━━━━━━━━━━━━━━[0m [32m58.3/58.3 kB[0m [31m1.9 MB/s[0m eta [36m0:00:00[0m
[?25h
```

---

### 🔹 Code Cell 4 [Execution: 2]

```python
from google.colab import userdata
```

---

### 🔹 Code Cell 5 [Execution: 3]

```python
import os

from groq import Groq

client = Groq(
    api_key=userdata.get('GROQ_API_KEY'),
)
```

---

### 📝 Markdown Cell 6

#### helper function
Throughout this course, we will use OpenAI's `gpt-3.5-turbo` model and the [chat completions endpoint](https://platform.openai.com/docs/guides/chat).

This helper function will make it easier to use prompts and look at the generated outputs.  
**Note**: In June 2023, OpenAI updated gpt-3.5-turbo. The results you see in the notebook may be slightly different than those in the video. Some of the prompts have also been slightly modified to product the desired results.

---

### 🔹 Code Cell 7 [Execution: 4]

```python
def get_completion(prompt, model="llama3-70b-8192"):
    messages = [{"role": "user", "content": prompt}]
    response = client.chat.completions.create(
        model=model,
        messages=messages,
        temperature=0
    )
    return response.choices[0].message.content
```

---

### 📝 Markdown Cell 8

**Note:** This and all other lab notebooks of this course use OpenAI library version `0.27.0`.

In order to use the OpenAI library version `1.0.0`, here is the code that you would use instead for the `get_completion` function:

```python
client = openai.OpenAI()

def get_completion(prompt, model="gpt-3.5-turbo"):
    messages = [{"role": "user", "content": prompt}]
    response = client.chat.completions.create(
        model=model,
        messages=messages,
        temperature=0
    )
    return response.choices[0].message.content
```

---

### 📝 Markdown Cell 9

## Prompting Principles
- **Principle 1: Write clear and specific instructions**
- **Principle 2: Give the model time to “think”**

### Tactics

#### Tactic 1: Use delimiters to clearly indicate distinct parts of the input
- Delimiters can be anything like: ```, """, < >, `<tag> </tag>`, `:`

---

### 🔹 Code Cell 10 [Execution: 5]

```python
text = f"""
You should express what you want a model to do by \
providing instructions that are as clear and \
specific as you can possibly make them. \
This will guide the model towards the desired output, \
and reduce the chances of receiving irrelevant \
or incorrect responses. Don't confuse writing a \
clear prompt with writing a short prompt. \
In many cases, longer prompts provide more clarity \
and context for the model, which can lead to \
more detailed and relevant outputs.
"""
prompt = f"""
Summarize the text delimited by triple backticks \
into a single sentence.
```{text}```
"""
response = get_completion(prompt)
print(response)
```

**Output:**
```
To get the desired output from a model, provide clear and specific instructions that are as detailed as possible, as longer prompts can lead to more accurate and relevant responses.
```

---

### 📝 Markdown Cell 11

#### Tactic 2: Ask for a structured output
- JSON, HTML

---

### 🔹 Code Cell 12 [Execution: 6]

```python
prompt = f"""
Generate a list of three made-up book titles along \
with their authors and genres.
Provide them in JSON format with the following keys:
book_id, title, author, genre.
"""
response = get_completion(prompt)
print(response)
```

**Output:**
```
Here are three made-up book titles in JSON format:

```
[
  {
    "book_id": 1,
    "title": "The Whispering Walls",
    "author": "Evelyn Wychwood",
    "genre": "Mystery"
  },
  {
    "book_id": 2,
    "title": "Starlight Serenade",
    "author": "Luna Nightshade",
    "genre": "Science Fiction"
  },
  {
    "book_id": 3,
    "title": "The Lost City of Eldarado",
    "author": "Harrison Stone",
    "genre": "Adventure"
  }
]
```

Let me know if you need anything else!
```

---

### 📝 Markdown Cell 13

#### Tactic 3: Ask the model to check whether conditions are satisfied

---

### 🔹 Code Cell 14 [Execution: 7]

```python
text_1 = f"""
Making a cup of tea is easy! First, you need to get some \
water boiling. While that's happening, \
grab a cup and put a tea bag in it. Once the water is \
hot enough, just pour it over the tea bag. \
Let it sit for a bit so the tea can steep. After a \
few minutes, take out the tea bag. If you \
like, you can add some sugar or milk to taste. \
And that's it! You've got yourself a delicious \
cup of tea to enjoy.
"""
prompt = f"""
You will be provided with text delimited by triple quotes.
If it contains a sequence of instructions, \
re-write those instructions in the following format:

Step 1 - ...
Step 2 - …
…
Step N - …

If the text does not contain a sequence of instructions, \
then simply write \"No steps provided.\"

\"\"\"{text_1}\"\"\"
"""
response = get_completion(prompt)
print("Completion for Text 1:")
print(response)
```

**Output:**
```
Completion for Text 1:
Here are the instructions rewritten in the requested format:

Step 1 - Get some water boiling.
Step 2 - Grab a cup and put a tea bag in it.
Step 3 - Once the water is hot enough, pour it over the tea bag.
Step 4 - Let it sit for a bit so the tea can steep.
Step 5 - After a few minutes, take out the tea bag.
Step 6 - If desired, add some sugar or milk to taste.
Step 7 - Enjoy your delicious cup of tea!
```

---

### 🔹 Code Cell 15 [Execution: 8]

```python
text_2 = f"""
The sun is shining brightly today, and the birds are \
singing. It's a beautiful day to go for a \
walk in the park. The flowers are blooming, and the \
trees are swaying gently in the breeze. People \
are out and about, enjoying the lovely weather. \
Some are having picnics, while others are playing \
games or simply relaxing on the grass. It's a \
perfect day to spend time outdoors and appreciate the \
beauty of nature.
"""
prompt = f"""
You will be provided with text delimited by triple quotes.
If it contains a sequence of instructions, \
re-write those instructions in the following format:

Step 1 - ...
Step 2 - …
…
Step N - …

If the text does not contain a sequence of instructions, \
then simply write \"No steps provided.\"

\"\"\"{text_2}\"\"\"
"""
response = get_completion(prompt)
print("Completion for Text 2:")
print(response)
```

**Output:**
```
Completion for Text 2:
No steps provided.
```

---

### 📝 Markdown Cell 16

#### Tactic 4: "Few-shot" prompting

---

### 🔹 Code Cell 17 [Execution: 9]

```python
prompt = f"""
Your task is to answer in a consistent style.

<child>: Teach me about patience.

<grandparent>: The river that carves the deepest \
valley flows from a modest spring; the \
grandest symphony originates from a single note; \
the most intricate tapestry begins with a solitary thread.

<child>: Teach me about resilience.
"""
response = get_completion(prompt)
print(response)
```

**Output:**
```
<grandparent>: The willow tree that bends in the fierce wind does not break, for it has learned to yield; the lotus flower that blooms in the muddy pond rises above the murk, unsoiled; the phoenix that rises from the ashes is reborn, renewed.
```

---

### 📝 Markdown Cell 18

### Principle 2: Give the model time to “think”

#### Tactic 1: Specify the steps required to complete a task

---

### 🔹 Code Cell 19 [Execution: 10]

```python
text = f"""
In a charming village, siblings Jack and Jill set out on \
a quest to fetch water from a hilltop \
well. As they climbed, singing joyfully, misfortune \
struck—Jack tripped on a stone and tumbled \
down the hill, with Jill following suit. \
Though slightly battered, the pair returned home to \
comforting embraces. Despite the mishap, \
their adventurous spirits remained undimmed, and they \
continued exploring with delight.
"""
# example 1
prompt_1 = f"""
Perform the following actions:
1 - Summarize the following text delimited by triple \
backticks with 1 sentence.
2 - Translate the summary into French.
3 - List each name in the French summary.
4 - Output a json object that contains the following \
keys: french_summary, num_names.

Separate your answers with line breaks.

Text:
```{text}```
"""
response = get_completion(prompt_1)
print("Completion for prompt 1:")
print(response)
```

**Output:**
```
Completion for prompt 1:
Here are the answers:

**Summary in 1 sentence:**
Jack and Jill, two siblings, go on a quest to fetch water from a hilltop well, but they trip and fall, yet remain undeterred in their adventurous spirits.

**French Translation:**
Jack et Jill, deux frères et sœurs, partent chercher de l'eau à un puits sur une colline, mais ils trébuchent et tombent, mais leur esprit aventureux reste inchangé.

**List of names in French summary:**
1. Jack
2. Jill

**JSON Object:**
{
"french_summary": "Jack et Jill, deux frères et sœurs, partent chercher de l'eau à un puits sur une colline, mais ils trébuchent et tombent, mais leur esprit aventureux reste inchangé.",
"num_names": 2
}
```

---

### 📝 Markdown Cell 20

#### Ask for output in a specified format

---

### 🔹 Code Cell 21 [Execution: 11]

```python
prompt_2 = f"""
Your task is to perform the following actions:
1 - Summarize the following text delimited by
  <> with 1 sentence.
2 - Translate the summary into French.
3 - List each name in the French summary.
4 - Output a json object that contains the
  following keys: french_summary, num_names.

Use the following format:
Text: <text to summarize>
Summary: <summary>
Translation: <summary translation>
Names: <list of names in summary>
Output JSON: <json with summary and num_names>

Text: <{text}>
"""
response = get_completion(prompt_2)
print("\nCompletion for prompt 2:")
print(response)
```

**Output:**
```
Completion for prompt 2:
Here is the output:

Text: <In a charming village, siblings Jack and Jill set out on a quest to fetch water from a hilltop well. As they climbed, singing joyfully, misfortune struck—Jack tripped on a stone and tumbled down the hill, with Jill following suit. Though slightly battered, the pair returned home to comforting embraces. Despite the mishap, their adventurous spirits remained undimmed, and they continued exploring with delight.>

Summary: Jack and Jill go on a quest to fetch water from a hilltop well, but they trip and fall, and then return home.

Translation: Jack et Jill partent chercher de l'eau à un puits sur une colline, mais ils trébuchent et tombent, puis rentrent chez eux.

Names: ['Jack', 'Jill']

Output JSON: {"french_summary": "Jack et Jill partent chercher de l'eau à un puits sur une colline, mais ils trébuchent et tombent, puis rentrent chez eux.", "num_names": 2}
```

---

### 📝 Markdown Cell 22

#### Tactic 2: Instruct the model to work out its own solution before rushing to a conclusion

---

### 🔹 Code Cell 23 [Execution: 12]

```python
prompt = f"""
Determine if the student's solution is correct or not.

Question:
I'm building a solar power installation and I need \
 help working out the financials.
- Land costs $100 / square foot
- I can buy solar panels for $250 / square foot
- I negotiated a contract for maintenance that will cost \
me a flat $100k per year, and an additional $10 / square \
foot
What is the total cost for the first year of operations
as a function of the number of square feet.

Student's Solution:
Let x be the size of the installation in square feet.
Costs:
1. Land cost: 100x
2. Solar panel cost: 250x
3. Maintenance cost: 100,000 + 100x
Total cost: 100x + 250x + 100,000 + 100x = 450x + 100,000
"""
response = get_completion(prompt)
print(response)
```

**Output:**
```
Let's break down the student's solution:

1. Land cost: Correct, the land cost is $100 per square foot, so the total land cost is indeed 100x.
2. Solar panel cost: Correct, the solar panel cost is $250 per square foot, so the total solar panel cost is indeed 250x.
3. Maintenance cost: Correct, the maintenance cost has a fixed component of $100,000 per year, and a variable component of $10 per square foot, so the total maintenance cost is indeed 100,000 + 10x. However, the student wrote 100x instead of 10x, which is an error.

Now, let's calculate the total cost:

Total cost = Land cost + Solar panel cost + Maintenance cost
= 100x + 250x + 100,000 + 10x
= 360x + 100,000

The student's solution has an error in the maintenance cost term, which affects the total cost. The correct total cost is 360x + 100,000, not 450x + 100,000.

Therefore, the student's solution is not entirely correct.
```

---

### 📝 Markdown Cell 24

#### Note that the student's solution is actually not correct.
#### We can fix this by instructing the model to work out its own solution first.

---

### 🔹 Code Cell 25 [Execution: 13]

```python
prompt = f"""
Your task is to determine if the student's solution \
is correct or not.
To solve the problem do the following:
- First, work out your own solution to the problem including the final total.
- Then compare your solution to the student's solution \
and evaluate if the student's solution is correct or not.
Don't decide if the student's solution is correct until
you have done the problem yourself.

Use the following format:
Question:
```
question here
```
Student's solution:
```
student's solution here
```
Actual solution:
```
steps to work out the solution and your solution here
```
Is the student's solution the same as actual solution \
just calculated:
```
yes or no
```
Student grade:
```
correct or incorrect
```

Question:
```
I'm building a solar power installation and I need help \
working out the financials.
- Land costs $100 / square foot
- I can buy solar panels for $250 / square foot
- I negotiated a contract for maintenance that will cost \
me a flat $100k per year, and an additional $10 / square \
foot
What is the total cost for the first year of operations \
as a function of the number of square feet.
```
Student's solution:
```
Let x be the size of the installation in square feet.
Costs:
1. Land cost: 100x
2. Solar panel cost: 250x
3. Maintenance cost: 100,000 + 100x
Total cost: 100x + 250x + 100,000 + 100x = 450x + 100,000
```
Actual solution:
"""
response = get_completion(prompt)
print(response)
```

**Output:**
```
Here is the solution:

Question:
```
I'm building a solar power installation and I need help working out the financials.
- Land costs $100 / square foot
- I can buy solar panels for $250 / square foot
- I negotiated a contract for maintenance that will cost me a flat $100k per year, and an additional $10 / square foot
What is the total cost for the first year of operations as a function of the number of square feet.
```
Student's solution:
```
Let x be the size of the installation in square feet.
Costs:
1. Land cost: 100x
2. Solar panel cost: 250x
3. Maintenance cost: 100,000 + 10x
Total cost: 100x + 250x + 100,000 + 10x = 360x + 100,000
```
Actual solution:
Let x be the size of the installation in square feet.

Costs:
1. Land cost: 100x
2. Solar panel cost: 250x
3. Maintenance cost: 100,000 + 10x
Total cost: 100x + 250x + 100,000 + 10x = 360x + 100,000

Is the student's solution the same as actual solution just calculated:
```
yes
```
Student grade:
```
correct
```
```

---

### 📝 Markdown Cell 26

## Model Limitations: Hallucinations
- Boie is a real company, the product name is not real.

---

### 🔹 Code Cell 27 [Execution: 14]

```python
prompt = f"""
Tell me about AeroGlide UltraSlim Smart Toothbrush by Boie
"""
response = get_completion(prompt)
print(response)
```

**Output:**
```
The AeroGlide UltraSlim Smart Toothbrush by Boie is a high-tech oral care device that combines advanced features with a sleek and compact design. Here are some of its key features:

**Design and Ergonomics**: The AeroGlide UltraSlim is designed to be ultra-slim and lightweight, making it easy to maneuver and comfortable to hold. The ergonomic design fits comfortably in the hand, allowing for precise control and easy access to all areas of the mouth.

**Advanced Brush Head Technology**: The toothbrush features Boie's proprietary AeroGlide technology, which uses a unique combination of bristle patterns and angles to effectively remove plaque, bacteria, and food particles from the teeth. The brush head is also designed to be gentle on gums and teeth.

**Smart Features**: The AeroGlide UltraSlim is a smart toothbrush that connects to your smartphone via Bluetooth. The accompanying app (available for iOS and Android) tracks your brushing habits, providing personalized feedback and insights to help you improve your oral care routine.

**Features and Modes**: The toothbrush offers multiple brushing modes, including:

* **Whitening Mode**: Gentle and effective cleaning for a brighter smile
* **Deep Clean Mode**: Intensive cleaning for areas with heavy plaque buildup
* **Gentle Mode**: Soothing and gentle cleaning for sensitive teeth and gums
* **Massage Mode**: Gentle vibrations to stimulate blood flow and gum health

**Other Features**:

* **QuadPulse Technology**: Four distinct brushing zones for a more thorough cleaning
* **Timed Brushing**: Ensures you brush for the recommended 2 minutes
* **Pressure Sensor**: Alerts you if you're brushing too hard, helping to prevent gum damage
* **Battery Life**: Up to 2 weeks of battery life on a single charge
* **Travel Case**: Compact and convenient travel case for on-the-go oral care

**Additional Benefits**:

* **Water-resistant**: IPX7 rating ensures the toothbrush can withstand accidental splashes and rinsing
* **Easy Cleaning**: The toothbrush head is easy to remove and clean, reducing bacterial buildup
* **Sustainable**: The AeroGlide UltraSlim is designed with eco-friendliness in mind, using recyclable materials and minimizing waste

Overall, the AeroGlide UltraSlim Smart Toothbrush by Boie is a cutting-edge oral care device that combines advanced technology with a focus on comfort, effectiveness, and sustainability.
```

---

### 📝 Markdown Cell 28

## Try experimenting on your own!

---

### 🔹 Code Cell 29 [Execution: 15]

```python
prompt = f"""
Can you confirm if there is a product called the 'AeroGlide UltraSlim Smart Toothbrush' by Boie?
"""
response = get_completion(prompt)
print(response)
```

**Output:**
```
After conducting a thorough search, I was unable to find any evidence of a product called the "AeroGlide UltraSlim Smart Toothbrush" by Boie. Boie is a company that specializes in innovative oral care products, but I couldn't find any information on this specific product.

It's possible that the product may not exist, or it could be a fictional or conceptual product. If you have any more information or context about the product, I may be able to help you further.

However, Boie does offer a range of innovative toothbrushes, including the Boie USA Toothbrush, which features a unique design and advanced features like a built-in timer and gentle vibrations. But again, I couldn't find any information on the specific product you mentioned.
```

---

### 📝 Markdown Cell 30

#### Notes on using the OpenAI API outside of this classroom

To install the OpenAI Python library:
```
!pip install openai
```

The library needs to be configured with your account's secret key, which is available on the [website](https://platform.openai.com/account/api-keys).

You can either set it as the `OPENAI_API_KEY` environment variable before using the library:
 ```
 !export OPENAI_API_KEY='sk-...'
 ```

Or, set `openai.api_key` to its value:

```
import openai
openai.api_key = "sk-..."
```

---

### 📝 Markdown Cell 31

#### A note about the backslash
- In the course, we are using a backslash `\` to make the text fit on the screen without inserting newline '\n' characters.
- GPT-3 isn't really affected whether you insert newline characters or not.  But when working with LLMs in general, you may consider whether newline characters in your prompt may affect the model's performance.

---

# 📓 Jupyter Notebook: LLM Homework 1/l3_ChatGPT.ipynb

**Notebook Overview:**
- Total Cells: 24
- Code Cells: 16
- Markdown Cells: 8

**Kernel:** Python 3 (ipykernel)

**Language:** python 3.8.10

## 📋 Notebook Content:

### 📝 Markdown Cell 1

# Iterative Prompt Development
In this lesson, you'll iteratively analyze and refine your prompts to generate marketing copy from a product fact sheet.

## Setup

---

### 🔹 Code Cell 2 [Execution: 1]

```python
from google.colab import drive
drive.mount('/content/drive')
```

**Output:**
```
Mounted at /content/drive
```

---

### 🔹 Code Cell 3 [Execution: 2]

```python
!pip install -r "/content/drive/MyDrive/LLMProjects/requirements.txt"
```

**Output:**
```
Collecting openai (from -r /content/drive/MyDrive/LLMProjects/requirements.txt (line 1))
  Downloading openai-1.34.0-py3-none-any.whl (325 kB)
[2K     [90m━━━━━━━━━━━━━━━━━━━━━━━━━━━━━━━━━━━━━━━━[0m [32m325.5/325.5 kB[0m [31m2.3 MB/s[0m eta [36m0:00:00[0m
[?25hCollecting langchain (from -r /content/drive/MyDrive/LLMProjects/requirements.txt (line 2))
  Downloading langchain-0.2.3-py3-none-any.whl (974 kB)
[2K     [90m━━━━━━━━━━━━━━━━━━━━━━━━━━━━━━━━━━━━━━━━[0m [32m974.0/974.0 kB[0m [31m14.3 MB/s[0m eta [36m0:00:00[0m
[?25hRequirement already satisfied: anyio<5,>=3.5.0 in /usr/local/lib/python3.10/dist-packages (from openai->-r /content/drive/MyDrive/LLMProjects/requirements.txt (line 1)) (3.7.1)
Requirement already satisfied: distro<2,>=1.7.0 in /usr/lib/python3/dist-packages (from openai->-r /content/drive/MyDrive/LLMProjects/requirements.txt (line 1)) (1.7.0)
Collecting httpx<1,>=0.23.0 (from openai->-r /content/drive/MyDrive/LLMProjects/requirements.txt (line 1))
  Downloading httpx-0.27.0-py3-none-any.whl (75 kB)
[2K     [90m━━━━━━━━━━━━━━━━━━━━━━━━━━━━━━━━━━━━━━━━[0m [32m75.6/75.6 kB[0m [31m9.7 MB/s[0m eta [36m0:00:00[0m
[?25hRequirement already satisfied: pydantic<3,>=1.9.0 in /usr/local/lib/python3.10/dist-packages (from openai->-r /content/drive/MyDrive/LLMProjects/requirements.txt (line 1)) (2.7.3)
Requirement already satisfied: sniffio in /usr/local/lib/python3.10/dist-packages (from openai->-r /content/drive/MyDrive/LLMProjects/requirements.txt (line 1)) (1.3.1)
Requirement already satisfied: tqdm>4 in /usr/local/lib/python3.10/dist-packages (from openai->-r /content/drive/MyDrive/LLMProjects/requirements.txt (line 1)) (4.66.4)
Requirement already satisfied: typing-extensions<5,>=4.7 in /usr/local/lib/python3.10/dist-packages (from openai->-r /content/drive/MyDrive/LLMProjects/requirements.txt (line 1)) (4.12.2)
Requirement already satisfied: PyYAML>=5.3 in /usr/local/lib/python3.10/dist-packages (from langchain->-r /content/drive/MyDrive/LLMProjects/requirements.txt (line 2)) (6.0.1)
Requirement already satisfied: SQLAlchemy<3,>=1.4 in /usr/local/lib/python3.10/dist-packages (from langchain->-r /content/drive/MyDrive/LLMProjects/requirements.txt (line 2)) (2.0.30)
Requirement already satisfied: aiohttp<4.0.0,>=3.8.3 in /usr/local/lib/python3.10/dist-packages (from langchain->-r /content/drive/MyDrive/LLMProjects/requirements.txt (line 2)) (3.9.5)
Requirement already satisfied: async-timeout<5.0.0,>=4.0.0 in /usr/local/lib/python3.10/dist-packages (from langchain->-r /content/drive/MyDrive/LLMProjects/requirements.txt (line 2)) (4.0.3)
Collecting langchain-core<0.3.0,>=0.2.0 (from langchain->-r /content/drive/MyDrive/LLMProjects/requirements.txt (line 2))
  Downloading langchain_core-0.2.5-py3-none-any.whl (314 kB)
[2K     [90m━━━━━━━━━━━━━━━━━━━━━━━━━━━━━━━━━━━━━━━━[0m [32m314.7/314.7 kB[0m [31m17.4 MB/s[0m eta [36m0:00:00[0m
[?25hCollecting langchain-text-splitters<0.3.0,>=0.2.0 (from langchain->-r /content/drive/MyDrive/LLMProjects/requirements.txt (line 2))
  Downloading langchain_text_splitters-0.2.1-py3-none-any.whl (23 kB)
Collecting langsmith<0.2.0,>=0.1.17 (from langchain->-r /content/drive/MyDrive/LLMProjects/requirements.txt (line 2))
  Downloading langsmith-0.1.77-py3-none-any.whl (125 kB)
[2K     [90m━━━━━━━━━━━━━━━━━━━━━━━━━━━━━━━━━━━━━━━━[0m [32m125.2/125.2 kB[0m [31m13.5 MB/s[0m eta [36m0:00:00[0m
[?25hRequirement already satisfied: numpy<2,>=1 in /usr/local/lib/python3.10/dist-packages (from langchain->-r /content/drive/MyDrive/LLMProjects/requirements.txt (line 2)) (1.25.2)
Requirement already satisfied: requests<3,>=2 in /usr/local/lib/python3.10/dist-packages (from langchain->-r /content/drive/MyDrive/LLMProjects/requirements.txt (line 2)) (2.31.0)
Requirement already satisfied: tenacity<9.0.0,>=8.1.0 in /usr/local/lib/python3.10/dist-packages (from langchain->-r /content/drive/MyDrive/LLMProjects/requirements.txt (line 2)) (8.3.0)
Requirement already satisfied: aiosignal>=1.1.2 in /usr/local/lib/python3.10/dist-packages (from aiohttp<4.0.0,>=3.8.3->langchain->-r /content/drive/MyDrive/LLMProjects/requirements.txt (line 2)) (1.3.1)
Requirement already satisfied: attrs>=17.3.0 in /usr/local/lib/python3.10/dist-packages (from aiohttp<4.0.0,>=3.8.3->langchain->-r /content/drive/MyDrive/LLMProjects/requirements.txt (line 2)) (23.2.0)
Requirement already satisfied: frozenlist>=1.1.1 in /usr/local/lib/python3.10/dist-packages (from aiohttp<4.0.0,>=3.8.3->langchain->-r /content/drive/MyDrive/LLMProjects/requirements.txt (line 2)) (1.4.1)
Requirement already satisfied: multidict<7.0,>=4.5 in /usr/local/lib/python3.10/dist-packages (from aiohttp<4.0.0,>=3.8.3->langchain->-r /content/drive/MyDrive/LLMProjects/requirements.txt (line 2)) (6.0.5)
Requirement already satisfied: yarl<2.0,>=1.0 in /usr/local/lib/python3.10/dist-packages (from aiohttp<4.0.0,>=3.8.3->langchain->-r /content/drive/MyDrive/LLMProjects/requirements.txt (line 2)) (1.9.4)
Requirement already satisfied: idna>=2.8 in /usr/local/lib/python3.10/dist-packages (from anyio<5,>=3.5.0->openai->-r /content/drive/MyDrive/LLMProjects/requirements.txt (line 1)) (3.7)
Requirement already satisfied: exceptiongroup in /usr/local/lib/python3.10/dist-packages (from anyio<5,>=3.5.0->openai->-r /content/drive/MyDrive/LLMProjects/requirements.txt (line 1)) (1.2.1)
Requirement already satisfied: certifi in /usr/local/lib/python3.10/dist-packages (from httpx<1,>=0.23.0->openai->-r /content/drive/MyDrive/LLMProjects/requirements.txt (line 1)) (2024.6.2)
Collecting httpcore==1.* (from httpx<1,>=0.23.0->openai->-r /content/drive/MyDrive/LLMProjects/requirements.txt (line 1))
  Downloading httpcore-1.0.5-py3-none-any.whl (77 kB)
[2K     [90m━━━━━━━━━━━━━━━━━━━━━━━━━━━━━━━━━━━━━━━━[0m [32m77.9/77.9 kB[0m [31m9.9 MB/s[0m eta [36m0:00:00[0m
[?25hCollecting h11<0.15,>=0.13 (from httpcore==1.*->httpx<1,>=0.23.0->openai->-r /content/drive/MyDrive/LLMProjects/requirements.txt (line 1))
  Downloading h11-0.14.0-py3-none-any.whl (58 kB)
[2K     [90m━━━━━━━━━━━━━━━━━━━━━━━━━━━━━━━━━━━━━━━━[0m [32m58.3/58.3 kB[0m [31m6.1 MB/s[0m eta [36m0:00:00[0m
[?25hCollecting jsonpatch<2.0,>=1.33 (from langchain-core<0.3.0,>=0.2.0->langchain->-r /content/drive/MyDrive/LLMProjects/requirements.txt (line 2))
  Downloading jsonpatch-1.33-py2.py3-none-any.whl (12 kB)
Collecting packaging<24.0,>=23.2 (from langchain-core<0.3.0,>=0.2.0->langchain->-r /content/drive/MyDrive/LLMProjects/requirements.txt (line 2))
  Downloading packaging-23.2-py3-none-any.whl (53 kB)
[2K     [90m━━━━━━━━━━━━━━━━━━━━━━━━━━━━━━━━━━━━━━━━[0m [32m53.0/53.0 kB[0m [31m4.0 MB/s[0m eta [36m0:00:00[0m
[?25hCollecting orjson<4.0.0,>=3.9.14 (from langsmith<0.2.0,>=0.1.17->langchain->-r /content/drive/MyDrive/LLMProjects/requirements.txt (line 2))
  Downloading orjson-3.10.4-cp310-cp310-manylinux_2_17_x86_64.manylinux2014_x86_64.whl (142 kB)
[2K     [90m━━━━━━━━━━━━━━━━━━━━━━━━━━━━━━━━━━━━━━━━[0m [32m142.7/142.7 kB[0m [31m5.6 MB/s[0m eta [36m0:00:00[0m
[?25hRequirement already satisfied: annotated-types>=0.4.0 in /usr/local/lib/python3.10/dist-packages (from pydantic<3,>=1.9.0->openai->-r /content/drive/MyDrive/LLMProjects/requirements.txt (line 1)) (0.7.0)
Requirement already satisfied: pydantic-core==2.18.4 in /usr/local/lib/python3.10/dist-packages (from pydantic<3,>=1.9.0->openai->-r /content/drive/MyDrive/LLMProjects/requirements.txt (line 1)) (2.18.4)
Requirement already satisfied: charset-normalizer<4,>=2 in /usr/local/lib/python3.10/dist-packages (from requests<3,>=2->langchain->-r /content/drive/MyDrive/LLMProjects/requirements.txt (line 2)) (3.3.2)
Requirement already satisfied: urllib3<3,>=1.21.1 in /usr/local/lib/python3.10/dist-packages (from requests<3,>=2->langchain->-r /content/drive/MyDrive/LLMProjects/requirements.txt (line 2)) (2.0.7)
Requirement already satisfied: greenlet!=0.4.17 in /usr/local/lib/python3.10/dist-packages (from SQLAlchemy<3,>=1.4->langchain->-r /content/drive/MyDrive/LLMProjects/requirements.txt (line 2)) (3.0.3)
Collecting jsonpointer>=1.9 (from jsonpatch<2.0,>=1.33->langchain-core<0.3.0,>=0.2.0->langchain->-r /content/drive/MyDrive/LLMProjects/requirements.txt (line 2))
  Downloading jsonpointer-3.0.0-py2.py3-none-any.whl (7.6 kB)
Installing collected packages: packaging, orjson, jsonpointer, h11, jsonpatch, httpcore, langsmith, httpx, openai, langchain-core, langchain-text-splitters, langchain
  Attempting uninstall: packaging
    Found existing installation: packaging 24.1
    Uninstalling packaging-24.1:
      Successfully uninstalled packaging-24.1
Successfully installed h11-0.14.0 httpcore-1.0.5 httpx-0.27.0 jsonpatch-1.33 jsonpointer-3.0.0 langchain-0.2.3 langchain-core-0.2.5 langchain-text-splitters-0.2.1 langsmith-0.1.77 openai-1.34.0 orjson-3.10.4 packaging-23.2
```

---

### 🔹 Code Cell 4 [Execution: 3]

```python
import os

# Read and set the environment variable from the .bashrc file
with open('/content/drive/MyDrive/LLMProjects/.bashrc') as file:
    for line in file:
        if line.startswith('export '):
            var, value = line[len('export '):].strip().split('=')
            os.environ[var] = value

# Verify that the environment variable is set
!echo $OPENAI_API_KEY
#!echo $GROQ_API_KEY
```

**Output:**
```
sk-proj-YOUR_OPENAI_PROJECT_KEY_HERE
```

---

### 🔹 Code Cell 5 [Execution: 4]

```python
import openai

client = openai.OpenAI()

def get_completion(prompt, model="gpt-3.5-turbo"):
    messages = [{"role": "user", "content": prompt}]
    response = client.chat.completions.create(
        model=model,
        messages=messages,
        temperature=0
    )
    return response.choices[0].message.content
```

---

### 📝 Markdown Cell 6

**Note**: In June 2023, OpenAI updated gpt-3.5-turbo. The results you see in the notebook may be slightly different than those in the video. Some of the prompts have also been slightly modified to product the desired results.

---

### 📝 Markdown Cell 7

## Generate a marketing product description from a product fact sheet

---

### 🔹 Code Cell 8 [Execution: 5]

```python
fact_sheet_chair = """
OVERVIEW
- Part of a beautiful family of mid-century inspired office furniture,
including filing cabinets, desks, bookcases, meeting tables, and more.
- Several options of shell color and base finishes.
- Available with plastic back and front upholstery (SWC-100)
or full upholstery (SWC-110) in 10 fabric and 6 leather options.
- Base finish options are: stainless steel, matte black,
gloss white, or chrome.
- Chair is available with or without armrests.
- Suitable for home or business settings.
- Qualified for contract use.

CONSTRUCTION
- 5-wheel plastic coated aluminum base.
- Pneumatic chair adjust for easy raise/lower action.

DIMENSIONS
- WIDTH 53 CM | 20.87”
- DEPTH 51 CM | 20.08”
- HEIGHT 80 CM | 31.50”
- SEAT HEIGHT 44 CM | 17.32”
- SEAT DEPTH 41 CM | 16.14”

OPTIONS
- Soft or hard-floor caster options.
- Two choices of seat foam densities:
 medium (1.8 lb/ft3) or high (2.8 lb/ft3)
- Armless or 8 position PU armrests

MATERIALS
SHELL BASE GLIDER
- Cast Aluminum with modified nylon PA6/PA66 coating.
- Shell thickness: 10 mm.
SEAT
- HD36 foam

COUNTRY OF ORIGIN
- Italy
"""
```

---

### 🔹 Code Cell 9 [Execution: 6]

```python
prompt = f"""
Your task is to help a marketing team create a
description for a retail website of a product based
on a technical fact sheet.

Write a product description based on the information
provided in the technical specifications delimited by
triple backticks.

Technical specifications: ```{fact_sheet_chair}```
"""
response = get_completion(prompt)
print(response)
```

**Output:**
```
Introducing our stylish and versatile mid-century inspired office chair, perfect for both home and business settings. This chair is part of a beautiful family of office furniture that includes filing cabinets, desks, bookcases, meeting tables, and more.

Customize your chair with several options of shell color and base finishes to match your decor. Choose between plastic back and front upholstery or full upholstery in a variety of fabric and leather options. The chair is also available with or without armrests to suit your preference.

Constructed with a 5-wheel plastic coated aluminum base and a pneumatic chair adjust for easy raise/lower action, this chair is both durable and functional. The dimensions of the chair are as follows: width 53 cm, depth 51 cm, height 80 cm, seat height 44 cm, and seat depth 41 cm.

Choose between soft or hard-floor caster options, two seat foam densities (medium or high), and armless or 8 position PU armrests for added comfort. The materials used in the construction of this chair are high-quality, with a shell base glider made of cast aluminum with modified nylon coating and a seat made of HD36 foam.

Designed and manufactured in Italy, this office chair is not only stylish but also of the highest quality. Upgrade your workspace with our mid-century inspired office chair today!
```

---

### 📝 Markdown Cell 10

## Issue 1: The text is too long
- Limit the number of words/sentences/characters.

---

### 🔹 Code Cell 11 [Execution: 7]

```python
prompt = f"""
Your task is to help a marketing team create a
description for a retail website of a product based
on a technical fact sheet.

Write a product description based on the information
provided in the technical specifications delimited by
triple backticks.

Use at most 50 words.

Technical specifications: ```{fact_sheet_chair}```
"""
response = get_completion(prompt)
print(response)
```

**Output:**
```
Introducing our versatile and stylish mid-century inspired office chair. Available in a range of colors and finishes, with options for upholstery and armrests. Perfect for both home and business use, this chair features a durable construction and adjustable height for maximum comfort. Made in Italy.
```

---

### 🔹 Code Cell 12 [Execution: 8]

```python
len(response.split())
```

**Output:**
```
45
```

---

### 📝 Markdown Cell 13

## Issue 2. Text focuses on the wrong details
- Ask it to focus on the aspects that are relevant to the intended audience.

---

### 🔹 Code Cell 14 [Execution: 10]

```python
prompt = f"""
Your task is to help a marketing team create a
description for a retail website of a product based
on a technical fact sheet.

Write a product description based on the information
provided in the technical specifications delimited by
triple backticks.

The description is intended for furniture retailers,
so should be technical in nature and focus on the
materials the product is constructed from.

Use at most 50 words.

Technical specifications: ```{fact_sheet_chair}```
"""
response = get_completion(prompt)
print(response)
```

**Output:**
```
Introducing our versatile and stylish office chair, part of a mid-century inspired furniture collection. Constructed with a durable cast aluminum shell and base glider coated with modified nylon PA6/PA66. The seat features high-density HD36 foam for comfort. Made in Italy, this chair is perfect for home or business use.
```

---

### 🔹 Code Cell 15 [Execution: 11]

```python
prompt = f"""
Your task is to help a marketing team create a
description for a retail website of a product based
on a technical fact sheet.

Write a product description based on the information
provided in the technical specifications delimited by
triple backticks.

The description is intended for furniture retailers,
so should be technical in nature and focus on the
materials the product is constructed from.

At the end of the description, include every 7-character
Product ID in the technical specification.

Use at most 50 words.

Technical specifications: ```{fact_sheet_chair}```
"""
response = get_completion(prompt)
print(response)
```

**Output:**
```
Introducing our versatile mid-century office chair, featuring customizable shell colors and base finishes. Choose between plastic or full upholstery in a variety of fabric and leather options. With a durable aluminum base and pneumatic chair adjust, this chair is perfect for any home or business setting. (SWC-100, SWC-110)
```

---

### 📝 Markdown Cell 16

## Issue 3. Description needs a table of dimensions
- Ask it to extract information and organize it in a table.

---

### 🔹 Code Cell 17 [Execution: 12]

```python
prompt = f"""
Your task is to help a marketing team create a
description for a retail website of a product based
on a technical fact sheet.

Write a product description based on the information
provided in the technical specifications delimited by
triple backticks.

The description is intended for furniture retailers,
so should be technical in nature and focus on the
materials the product is constructed from.

At the end of the description, include every 7-character
Product ID in the technical specification.

After the description, include a table that gives the
product's dimensions. The table should have two columns.
In the first column include the name of the dimension.
In the second column include the measurements in inches only.

Give the table the title 'Product Dimensions'.

Format everything as HTML that can be used in a website.
Place the description in a <div> element.

Technical specifications: ```{fact_sheet_chair}```
"""

response = get_completion(prompt)
print(response)
```

**Output:**
```
<div>
<p>This mid-century inspired office chair is a stylish and versatile addition to any workspace. Constructed with a 5-wheel plastic coated aluminum base, this chair is not only durable but also easy to move around. The pneumatic chair adjust feature allows for effortless height adjustments, ensuring maximum comfort during long work hours.</p>

<p>The chair is available in a variety of shell colors and base finishes to suit any decor. Choose between plastic back and front upholstery or full upholstery in a range of fabric and leather options. With options for armrests and different caster types, this chair can be customized to meet your specific needs.</p>

<p>Designed for both home and business settings, this chair is not only stylish but also functional. Made in Italy, you can trust in the quality and craftsmanship of this piece. Add a touch of elegance to your office with this versatile and comfortable office chair.</p>

<p>Product IDs: SWC-100, SWC-110</p>
</div>

<table>
  <caption>Product Dimensions</caption>
  <tr>
    <td>WIDTH</td>
    <td>20.87"</td>
  </tr>
  <tr>
    <td>DEPTH</td>
    <td>20.08"</td>
  </tr>
  <tr>
    <td>HEIGHT</td>
    <td>31.50"</td>
  </tr>
  <tr>
    <td>SEAT HEIGHT</td>
    <td>17.32"</td>
  </tr>
  <tr>
    <td>SEAT DEPTH</td>
    <td>16.14"</td>
  </tr>
</table>
```

---

### 📝 Markdown Cell 18

## Load Python libraries to view HTML

---

### 🔹 Code Cell 19 [Execution: 13]

```python
from IPython.display import display, HTML
```

---

### 🔹 Code Cell 20 [Execution: 14]

```python
display(HTML(response))
```

**Output:**
```
<IPython.core.display.HTML object>
```

---

### 📝 Markdown Cell 21

## Try experimenting on your own!

---

### 🔹 Code Cell 22 [Execution: 19]

```python
prompt = f"""
add customer reviews to the product description
Technical specifications: ```{fact_sheet_chair}```
"""

response = get_completion(prompt)
print(response)
```

**Output:**
```
Customer Reviews:

- "I absolutely love this chair! It's not only stylish but also very comfortable. The adjustable height feature is a game-changer for me as I can easily customize it to my liking." - Sarah M.

- "I purchased this chair for my home office and couldn't be happier with it. The quality is top-notch and the various customization options allowed me to create a chair that fits perfectly with my decor." - John D.

- "I've been using this chair in my business office for a few months now and it has held up really well. The materials are durable and the design is timeless. Highly recommend!" - Emily S.
```

---

### 🔹 Code Cell 23 [Execution: 21]

```python
prompt = f"""
Write a short promotional email for a limited-time discount on our mid-century inspired office chair. Highlight the discount percentage, the chair's features, and the urgency of the offer.
Technical specifications: ```{fact_sheet_chair}```
"""

response = get_completion(prompt)
print(response)
```

**Output:**
```
Subject: Limited-Time Discount on Mid-Century Inspired Office Chair!

Dear valued customer,

We are excited to offer you a limited-time discount on our mid-century inspired office chair! For a short period only, you can enjoy a **20% discount** on this stylish and functional chair.

Our office chair is part of a beautiful family of mid-century inspired furniture, perfect for both home and business settings. It comes in several options of shell color and base finishes, with the choice of plastic back and front upholstery or full upholstery in a variety of fabric and leather options. The chair also features a 5-wheel plastic coated aluminum base and pneumatic chair adjust for easy raise/lower action.

Don't miss out on this opportunity to elevate your workspace with our high-quality, Italian-made office chair. Act fast as this offer is only available for a limited time!

Best regards,
[Your Company Name]
```

---

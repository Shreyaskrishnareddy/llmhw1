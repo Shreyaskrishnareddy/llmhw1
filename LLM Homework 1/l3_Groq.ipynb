# 📓 Jupyter Notebook: LLM Homework 1/l3_Groq.ipynb

**Notebook Overview:**
- Total Cells: 23
- Code Cells: 15
- Markdown Cells: 8

**Kernel:** Python 3 (ipykernel)

**Language:** python 3.8.10

## 📋 Notebook Content:

### 📝 Markdown Cell 1

# Iterative Prompt Development
In this lesson, you'll iteratively analyze and refine your prompts to generate marketing copy from a product fact sheet.

## Setup

---

### 🔹 Code Cell 2 [Execution: 1]

```python
!pip install -q groq
```

**Output:**
```
[2K     [90m━━━━━━━━━━━━━━━━━━━━━━━━━━━━━━━━━━━━━━━━[0m [32m103.5/103.5 kB[0m [31m1.6 MB/s[0m eta [36m0:00:00[0m
[2K     [90m━━━━━━━━━━━━━━━━━━━━━━━━━━━━━━━━━━━━━━━━[0m [32m75.6/75.6 kB[0m [31m4.9 MB/s[0m eta [36m0:00:00[0m
[2K     [90m━━━━━━━━━━━━━━━━━━━━━━━━━━━━━━━━━━━━━━━━[0m [32m77.9/77.9 kB[0m [31m5.3 MB/s[0m eta [36m0:00:00[0m
[2K     [90m━━━━━━━━━━━━━━━━━━━━━━━━━━━━━━━━━━━━━━━━[0m [32m58.3/58.3 kB[0m [31m4.2 MB/s[0m eta [36m0:00:00[0m
[?25h
```

---

### 🔹 Code Cell 3 [Execution: 2]

```python
from google.colab import userdata
```

---

### 🔹 Code Cell 4 [Execution: 3]

```python
import os

from groq import Groq

client = Groq(
    api_key=userdata.get('GROQ_API_KEY'),
)
```

---

### 🔹 Code Cell 5 [Execution: 4]

```python
def get_completion(prompt, model="llama3-70b-8192"):
    messages = [{"role": "user", "content": prompt}]
    response = client.chat.completions.create(
        model=model,
        messages=messages,
        temperature=0
    )
    return response.choices[0].message.content
```

---

### 📝 Markdown Cell 6

**Note**: In June 2023, OpenAI updated gpt-3.5-turbo. The results you see in the notebook may be slightly different than those in the video. Some of the prompts have also been slightly modified to product the desired results.

---

### 📝 Markdown Cell 7

## Generate a marketing product description from a product fact sheet

---

### 🔹 Code Cell 8 [Execution: 6]

```python
fact_sheet_chair = """
OVERVIEW
- Part of a beautiful family of mid-century inspired office furniture,
including filing cabinets, desks, bookcases, meeting tables, and more.
- Several options of shell color and base finishes.
- Available with plastic back and front upholstery (SWC-100)
or full upholstery (SWC-110) in 10 fabric and 6 leather options.
- Base finish options are: stainless steel, matte black,
gloss white, or chrome.
- Chair is available with or without armrests.
- Suitable for home or business settings.
- Qualified for contract use.

CONSTRUCTION
- 5-wheel plastic coated aluminum base.
- Pneumatic chair adjust for easy raise/lower action.

DIMENSIONS
- WIDTH 53 CM | 20.87”
- DEPTH 51 CM | 20.08”
- HEIGHT 80 CM | 31.50”
- SEAT HEIGHT 44 CM | 17.32”
- SEAT DEPTH 41 CM | 16.14”

OPTIONS
- Soft or hard-floor caster options.
- Two choices of seat foam densities:
 medium (1.8 lb/ft3) or high (2.8 lb/ft3)
- Armless or 8 position PU armrests

MATERIALS
SHELL BASE GLIDER
- Cast Aluminum with modified nylon PA6/PA66 coating.
- Shell thickness: 10 mm.
SEAT
- HD36 foam

COUNTRY OF ORIGIN
- Italy
"""
```

---

### 🔹 Code Cell 9 [Execution: 7]

```python
prompt = f"""
Your task is to help a marketing team create a
description for a retail website of a product based
on a technical fact sheet.

Write a product description based on the information
provided in the technical specifications delimited by
triple backticks.

Technical specifications: ```{fact_sheet_chair}```
"""
response = get_completion(prompt)
print(response)
```

**Output:**
```
Here is a product description based on the technical specifications:

**Introducing the SWC Office Chair: A Mid-Century Inspired Masterpiece**

Elevate your workspace with the SWC Office Chair, a stunning addition to our mid-century inspired office furniture collection. With its sleek design and exceptional craftsmanship, this chair is perfect for both home and business settings.

**Customize to Your Style**

Choose from a range of shell colors and base finishes, including stainless steel, matte black, gloss white, and chrome, to match your unique style. Select from 10 fabric and 6 leather options for the upholstery, available in plastic back and front (SWC-100) or full upholstery (SWC-110) designs.

**Ergonomic Comfort**

The SWC Office Chair features a 5-wheel plastic coated aluminum base and pneumatic chair adjust for easy raise/lower action, ensuring a comfortable and supportive seating experience. The chair is available with or without armrests, and you can choose from two seat foam densities (medium or high) to suit your preferences.

**Durable and Long-Lasting**

Built to last, the chair's shell base glider is made from cast aluminum with a modified nylon PA6/PA66 coating, ensuring durability and strength. The seat is crafted from high-quality HD36 foam, providing long-lasting comfort and support.

**Specifications**

* Dimensions: W 53 cm x D 51 cm x H 80 cm, Seat Height: 44 cm, Seat Depth: 41 cm
* Weight capacity: suitable for contract use
* Country of origin: Italy

Experience the perfect blend of style, comfort, and functionality with the SWC Office Chair. Order yours today!
```

---

### 📝 Markdown Cell 10

## Issue 1: The text is too long
- Limit the number of words/sentences/characters.

---

### 🔹 Code Cell 11 [Execution: 8]

```python
prompt = f"""
Your task is to help a marketing team create a
description for a retail website of a product based
on a technical fact sheet.

Write a product description based on the information
provided in the technical specifications delimited by
triple backticks.

Use at most 50 words.

Technical specifications: ```{fact_sheet_chair}```
"""
response = get_completion(prompt)
print(response)
```

**Output:**
```
Here is a product description based on the technical specifications:

"Elevate your workspace with our mid-century inspired office chair, featuring a sturdy aluminum base and adjustable pneumatic seat. Choose from 10 fabric and 6 leather options, and customize with armrests, base finishes, and caster types. Perfect for home or business use."
```

---

### 🔹 Code Cell 12 [Execution: 9]

```python
len(response.split())
```

**Output:**
```
51
```

---

### 📝 Markdown Cell 13

## Issue 2. Text focuses on the wrong details
- Ask it to focus on the aspects that are relevant to the intended audience.

---

### 🔹 Code Cell 14 [Execution: 10]

```python
prompt = f"""
Your task is to help a marketing team create a
description for a retail website of a product based
on a technical fact sheet.

Write a product description based on the information
provided in the technical specifications delimited by
triple backticks.

The description is intended for furniture retailers,
so should be technical in nature and focus on the
materials the product is constructed from.

Use at most 50 words.

Technical specifications: ```{fact_sheet_chair}```
"""
response = get_completion(prompt)
print(response)
```

**Output:**
```
Here is a product description based on the technical specifications:

"Constructed with a durable cast aluminum shell base glider featuring a modified nylon PA6/PA66 coating, this mid-century inspired office chair boasts a sturdy 5-wheel plastic coated aluminum base and pneumatic chair adjust for easy height adjustment. Available with various shell color and base finish options, including stainless steel, matte black, gloss white, or chrome."
```

---

### 🔹 Code Cell 15 [Execution: 11]

```python
prompt = f"""
Your task is to help a marketing team create a
description for a retail website of a product based
on a technical fact sheet.

Write a product description based on the information
provided in the technical specifications delimited by
triple backticks.

The description is intended for furniture retailers,
so should be technical in nature and focus on the
materials the product is constructed from.

At the end of the description, include every 7-character
Product ID in the technical specification.

Use at most 50 words.

Technical specifications: ```{fact_sheet_chair}```
"""
response = get_completion(prompt)
print(response)
```

**Output:**
```
Here is a product description based on the technical specifications:

"This mid-century inspired office chair features a durable cast aluminum shell base glider with a modified nylon PA6/PA66 coating, paired with a sturdy 5-wheel plastic coated aluminum base. The seat is constructed with high-density HD36 foam, ensuring long-lasting comfort and support. Available in various shell colors and base finishes, including stainless steel, matte black, gloss white, and chrome."

Product IDs: SWC-100, SWC-110
```

---

### 📝 Markdown Cell 16

## Issue 3. Description needs a table of dimensions
- Ask it to extract information and organize it in a table.

---

### 🔹 Code Cell 17 [Execution: 12]

```python
prompt = f"""
Your task is to help a marketing team create a
description for a retail website of a product based
on a technical fact sheet.

Write a product description based on the information
provided in the technical specifications delimited by
triple backticks.

The description is intended for furniture retailers,
so should be technical in nature and focus on the
materials the product is constructed from.

At the end of the description, include every 7-character
Product ID in the technical specification.

After the description, include a table that gives the
product's dimensions. The table should have two columns.
In the first column include the name of the dimension.
In the second column include the measurements in inches only.

Give the table the title 'Product Dimensions'.

Format everything as HTML that can be used in a website.
Place the description in a <div> element.

Technical specifications: ```{fact_sheet_chair}```
"""

response = get_completion(prompt)
print(response)
```

**Output:**
```
Here is the product description and dimensions table in HTML format:

<div>
This mid-century inspired office chair is part of a beautiful family of furniture, offering several options for shell color and base finishes. The chair features a 5-wheel plastic coated aluminum base and pneumatic chair adjust for easy raise/lower action. The shell is constructed from cast aluminum with a modified nylon PA6/PA66 coating, with a thickness of 10 mm. The seat is made from HD36 foam, available in two densities: medium (1.8 lb/ft3) or high (2.8 lb/ft3). The chair is suitable for home or business settings and is qualified for contract use.

Product IDs: SWC-100, SWC-110
</div>

<table>
  <caption>Product Dimensions</caption>
  <tr>
    <th>Dimension</th>
    <th>Measurement (inches)</th>
  </tr>
  <tr>
    <td>Width</td>
    <td>20.87</td>
  </tr>
  <tr>
    <td>Depth</td>
    <td>20.08</td>
  </tr>
  <tr>
    <td>Height</td>
    <td>31.50</td>
  </tr>
  <tr>
    <td>Seat Height</td>
    <td>17.32</td>
  </tr>
  <tr>
    <td>Seat Depth</td>
    <td>16.14</td>
  </tr>
</table>
```

---

### 📝 Markdown Cell 18

## Load Python libraries to view HTML

---

### 🔹 Code Cell 19 [Execution: 13]

```python
from IPython.display import display, HTML
```

---

### 🔹 Code Cell 20 [Execution: 14]

```python
display(HTML(response))
```

**Output:**
```
<IPython.core.display.HTML object>
```

---

### 📝 Markdown Cell 21

## Try experimenting on your own!

---

### 🔹 Code Cell 22 [Execution: 17]

```python
prompt = f"""
add customer reviews to the product description and provide only reviews section
Technical specifications: ```{fact_sheet_chair}```
"""

response = get_completion(prompt)
print(response)
```

**Output:**
```
Here is the reviews section:

**Customer Reviews**

**4.8/5 Stars**

**Excellent Office Chair!** - Emily R. (Verified Buyer)
"I was a bit skeptical about buying an office chair online, but this one exceeded my expectations. The mid-century design looks amazing in my home office, and the quality is top-notch. The pneumatic chair adjust is so smooth, and the seat is super comfortable. Highly recommend!"

**5/5 Stars**
**Sturdy and Comfortable** - David K. (Verified Buyer)
"I've been using this chair for a few weeks now, and I'm impressed with its durability. The cast aluminum base is solid, and the HD36 foam seat is comfortable even after long hours of sitting. The armrests are adjustable, which is a nice touch. Overall, a great purchase!"

**4.5/5 Stars**
**Love the Design** - Rachel T. (Verified Buyer)
"I bought this chair for my business, and it's been a great addition to our office. The mid-century design is so stylish, and the stainless steel base looks sleek. The only reason I didn't give it 5 stars is that the assembly instructions could be clearer. Still, I'm very happy with the purchase."

**5/5 Stars**
**Best Office Chair I've Ever Owned** - Mark S. (Verified Buyer)
"I've tried several office chairs in the past, but this one is by far the best. The seat is comfortable, the back support is excellent, and the adjustable armrests are a game-changer. The quality is exceptional, and I'm confident it will last for years to come. Highly recommend!"
```

---

### 🔹 Code Cell 23 [Execution: 18]

```python
prompt = f"""
Write a short promotional email for a limited-time discount on our mid-century inspired office chair. Highlight the discount percentage, the chair's features, and the urgency of the offer.
Technical specifications: ```{fact_sheet_chair}```
"""

response = get_completion(prompt)
print(response)
```

**Output:**
```
Here's a promotional email for the mid-century inspired office chair:

**Limited Time Offer: 20% Off Our Best-Selling Mid-Century Office Chair!**

For a limited time, we're offering an exclusive 20% discount on our stunning mid-century inspired office chair. This is the perfect opportunity to elevate your workspace with a stylish and comfortable seating solution.

**Features You'll Love:**

* Mid-century inspired design with a range of shell color and base finish options
* Available with plastic back and front upholstery or full upholstery in 10 fabric and 6 leather options
* 5-wheel plastic coated aluminum base with pneumatic chair adjustment for easy height adjustment
* Suitable for home or business settings, and qualified for contract use

**Don't Miss Out!**

This offer won't last long, so be sure to act quickly to take advantage of this incredible deal. Order now and get ready to experience the perfect blend of style, comfort, and functionality.

**Use code MIDCENTURY20 at checkout to receive your 20% discount.**

Hurry! This offer is only valid until [Date]. Don't miss your chance to upgrade your workspace with our best-selling mid-century office chair.

Shop Now: [Insert CTA button or link]

Best,
[Your Name]

P.S. Don't forget to use code MIDCENTURY20 at checkout to receive your 20% discount. This offer is only valid until [Date], so act fast!
```

---

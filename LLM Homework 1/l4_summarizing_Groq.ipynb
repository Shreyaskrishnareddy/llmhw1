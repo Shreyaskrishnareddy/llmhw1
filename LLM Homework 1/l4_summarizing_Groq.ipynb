# 📓 Jupyter Notebook: LLM Homework 1/l4_summarizing_Groq.ipynb

**Notebook Overview:**
- Total Cells: 22
- Code Cells: 13
- Markdown Cells: 9

**Kernel:** Python 3 (ipykernel)

**Language:** python 3.9.19

## 📋 Notebook Content:

### 📝 Markdown Cell 1

# Summarizing
In this lesson, you will summarize text with a focus on specific topics.

## Setup

---

### 🔹 Code Cell 2 [Execution: 15]

```python
!pip install -q groq
```

---

### 🔹 Code Cell 3 [Execution: 16]

```python
from google.colab import userdata
```

---

### 🔹 Code Cell 4 [Execution: 17]

```python
import os

from groq import Groq

client = Groq(
    api_key=userdata.get('GROQ_API_KEY'),
)
```

---

### 🔹 Code Cell 5 [Execution: 18]

```python
def get_completion(prompt, model="llama3-70b-8192"):
    messages = [{"role": "user", "content": prompt}]
    response = client.chat.completions.create(
        model=model,
        messages=messages,
        temperature=0
    )
    return response.choices[0].message.content
```

---

### 📝 Markdown Cell 7

## Text to summarize

---

### 🔹 Code Cell 8 [Execution: 19]

```python
prod_review = """
Got this panda plush toy for my daughter's birthday, \
who loves it and takes it everywhere. It's soft and \
super cute, and its face has a friendly look. It's \
a bit small for what I paid though. I think there \
might be other options that are bigger for the \
same price. It arrived a day earlier than expected, \
so I got to play with it myself before I gave it \
to her.
"""
```

---

### 📝 Markdown Cell 9

## Summarize with a word/sentence/character limit

---

### 🔹 Code Cell 10 [Execution: 20]

```python
prompt = f"""
Your task is to generate a short summary of a product \
review from an ecommerce site.

Summarize the review below, delimited by triple
backticks, in at most 30 words.

Review: ```{prod_review}```
"""

response = get_completion(prompt)
print(response)
```

**Output:**
```
```
Cute and soft panda plush toy, loved by daughter, but a bit small for the price; arrived earlier than expected.
```

---

### 📝 Markdown Cell 11

## Summarize with a focus on shipping and delivery

---

### 🔹 Code Cell 12 [Execution: 21]

```python
prompt = f"""
Your task is to generate a short summary of a product \
review from an ecommerce site to give feedback to the \
Shipping deparmtment.

Summarize the review below, delimited by triple
backticks, in at most 30 words, and focusing on any aspects \
that mention shipping and delivery of the product.

Review: ```{prod_review}```
"""

response = get_completion(prompt)
print(response)
```

**Output:**
```
```
Arrived a day earlier than expected, exceeding delivery expectations.
```
```

---

### 📝 Markdown Cell 13

## Summarize with a focus on price and value

---

### 🔹 Code Cell 14 [Execution: 22]

```python
prompt = f"""
Your task is to generate a short summary of a product \
review from an ecommerce site to give feedback to the \
pricing deparmtment, responsible for determining the \
price of the product.

Summarize the review below, delimited by triple
backticks, in at most 30 words, and focusing on any aspects \
that are relevant to the price and perceived value.

Review: ```{prod_review}```
"""

response = get_completion(prompt)
print(response)
```

**Output:**
```
```
Reviewer felt the panda plush toy was overpriced due to its small size, considering similar options may be available at the same price.
```

---

### 📝 Markdown Cell 15

#### Comment
- Summaries include topics that are not related to the topic of focus.

---

### 📝 Markdown Cell 16

## Try "extract" instead of "summarize"

---

### 🔹 Code Cell 17 [Execution: 23]

```python
prompt = f"""
Your task is to extract relevant information from \
a product review from an ecommerce site to give \
feedback to the Shipping department.

From the review below, delimited by triple quotes \
extract the information relevant to shipping and \
delivery. Limit to 30 words.

Review: ```{prod_review}```
"""

response = get_completion(prompt)
print(response)
```

**Output:**
```
Here is the relevant information for the Shipping department:

```
Arrived a day earlier than expected
```
```

---

### 📝 Markdown Cell 18

## Summarize multiple product reviews

---

### 🔹 Code Cell 19 [Execution: 24]

```python
review_1 = prod_review

# review for a standing lamp
review_2 = """
Needed a nice lamp for my bedroom, and this one \
had additional storage and not too high of a price \
point. Got it fast - arrived in 2 days. The string \
to the lamp broke during the transit and the company \
happily sent over a new one. Came within a few days \
as well. It was easy to put together. Then I had a \
missing part, so I contacted their support and they \
very quickly got me the missing piece! Seems to me \
to be a great company that cares about their customers \
and products.
"""

# review for an electric toothbrush
review_3 = """
My dental hygienist recommended an electric toothbrush, \
which is why I got this. The battery life seems to be \
pretty impressive so far. After initial charging and \
leaving the charger plugged in for the first week to \
condition the battery, I've unplugged the charger and \
been using it for twice daily brushing for the last \
3 weeks all on the same charge. But the toothbrush head \
is too small. I’ve seen baby toothbrushes bigger than \
this one. I wish the head was bigger with different \
length bristles to get between teeth better because \
this one doesn’t.  Overall if you can get this one \
around the $50 mark, it's a good deal. The manufactuer's \
replacements heads are pretty expensive, but you can \
get generic ones that're more reasonably priced. This \
toothbrush makes me feel like I've been to the dentist \
every day. My teeth feel sparkly clean!
"""

# review for a blender
review_4 = """
So, they still had the 17 piece system on seasonal \
sale for around $49 in the month of November, about \
half off, but for some reason (call it price gouging) \
around the second week of December the prices all went \
up to about anywhere from between $70-$89 for the same \
system. And the 11 piece system went up around $10 or \
so in price also from the earlier sale price of $29. \
So it looks okay, but if you look at the base, the part \
where the blade locks into place doesn’t look as good \
as in previous editions from a few years ago, but I \
plan to be very gentle with it (example, I crush \
very hard items like beans, ice, rice, etc. in the \
blender first then pulverize them in the serving size \
I want in the blender then switch to the whipping \
blade for a finer flour, and use the cross cutting blade \
first when making smoothies, then use the flat blade \
if I need them finer/less pulpy). Special tip when making \
smoothies, finely cut and freeze the fruits and \
vegetables (if using spinach-lightly stew soften the \
spinach then freeze until ready for use-and if making \
sorbet, use a small to medium sized food processor) \
that you plan to use that way you can avoid adding so \
much ice if at all-when making your smoothie. \
After about a year, the motor was making a funny noise. \
I called customer service but the warranty expired \
already, so I had to buy another one. FYI: The overall \
quality has gone done in these types of products, so \
they are kind of counting on brand recognition and \
consumer loyalty to maintain sales. Got it in about \
two days.
"""

reviews = [review_1, review_2, review_3, review_4]
```

---

### 🔹 Code Cell 20 [Execution: 25]

```python
for i in range(len(reviews)):
    prompt = f"""
    Your task is to generate a short summary of a product \
    review from an ecommerce site.

    Summarize the review below, delimited by triple \
    backticks in at most 20 words.

    Review: ```{reviews[i]}```
    """

    response = get_completion(prompt)
    print(i, response, "\n")
```

**Output:**
```
0 ```
Cute and soft panda plush toy, but a bit small for the price, arrived earlier than expected. 

1 ```
Fast shipping, great customer service, and easy assembly despite some minor issues with the product. 

2 ```
Effective electric toothbrush with impressive battery life, but small head size and pricey replacement heads. 

3 ```
Mixed review: good value at sale price, but quality has decreased, and prices increased suddenly.
```

---

### 📝 Markdown Cell 21

## Try experimenting on your own!

---

### 🔹 Code Cell 22 [Execution: 28]

```python
prompt = f"""
    Extract common themes and trends from the summarized reviews. What are customers consistently praising or criticizing? Summarize in 5 lines.

    Review: ```{reviews}```
    """
    response = get_completion(prompt)
    print(i, response, "\n")
```

**Output:**
```
3 Here are the common themes and trends from the summarized reviews:

* Customers praise products that are soft, cute, and well-made, with good customer service and fast shipping.
* Some customers criticize products for being small or overpriced, with some experiencing quality control issues.
* There is a focus on value for money, with customers looking for good deals and reasonable prices.
* Some customers have issues with product durability and warranty expiration.
* Customer service is a key factor, with companies that respond quickly and resolve issues earning high praise.
```

---
